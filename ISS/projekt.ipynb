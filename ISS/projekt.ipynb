{
 "cells": [
  {
   "cell_type": "code",
   "execution_count": 29,
   "metadata": {},
   "outputs": [],
   "source": [
    "import matplotlib\n",
    "from pylab import*\n",
    "from scipy.io import wavfile\n",
    "\n",
    "sampFreq, signal = wavfile.read('xkukan00.wav')\n",
    "signalLen = len(signal)"
   ]
  },
  {
   "cell_type": "code",
   "execution_count": 30,
   "metadata": {},
   "outputs": [
    {
     "name": "stdout",
     "output_type": "stream",
     "text": [
      "sampling frequency: 16000 Hz\n",
      "data lenght in samples: 16000\n",
      "data lenght in seconds: 1.0\n"
     ]
    }
   ],
   "source": [
    "# 1\n",
    "print (\"sampling frequency: \" + str(sampFreq) + \" Hz\")\n",
    "print (\"data lenght in samples: \" + str(signalLen))\n",
    "secLen = signalLen / sampFreq\n",
    "print (\"data lenght in seconds: \" + str(secLen) )"
   ]
  },
  {
   "cell_type": "code",
   "execution_count": 49,
   "metadata": {},
   "outputs": [
    {
     "data": {
      "image/png": "[encoded data removed]",
      "text/plain": [
       "<matplotlib.figure.Figure at 0x7fded96cc320>"
      ]
     },
     "metadata": {},
     "output_type": "display_data"
    }
   ],
   "source": [
    "# 2\n",
    "def frekvencniAnalyza(signal, signalLen, sampFreq): \n",
    "    Y = fft(signal)/signalLen \n",
    "    Y = Y[0 : int(signalLen/2)]\n",
    "\n",
    "    k = arange(signalLen)\n",
    "    T = signalLen/sampFreq\n",
    "    frq = k/T # two sides frequency range\n",
    "    frq = frq[range(int(signalLen/2))] # one side frequency range\n",
    "\n",
    "    plot(frq,abs(Y),'r') # plotting the spectrum\n",
    "    xlabel('Freq (Hz)')\n",
    "    ylabel('|Y(freq)|')\n",
    "    \n",
    "frekvencniAnalyza(signal, signalLen, sampFreq)"
   ]
  },
  {
   "cell_type": "code",
   "execution_count": 44,
   "metadata": {},
   "outputs": [
    {
     "name": "stdout",
     "output_type": "stream",
     "text": [
      "max on freq:  949\n"
     ]
    }
   ],
   "source": [
    "# 3\n",
    "print (\"max on freq: \", Y.tolist().index(max(Y)))\n",
    "        "
   ]
  },
  {
   "cell_type": "code",
   "execution_count": 51,
   "metadata": {},
   "outputs": [
    {
     "ename": "SyntaxError",
     "evalue": "invalid syntax (<ipython-input-51-d2d87f563920>, line 6)",
     "output_type": "error",
     "traceback": [
      "\u001b[0;36m  File \u001b[0;32m\"<ipython-input-51-d2d87f563920>\"\u001b[0;36m, line \u001b[0;32m6\u001b[0m\n\u001b[0;31m    H = freqz(b,a,256); f=(0:255) / 256 * Fs / 2;\u001b[0m\n\u001b[0m                            ^\u001b[0m\n\u001b[0;31mSyntaxError\u001b[0m\u001b[0;31m:\u001b[0m invalid syntax\n"
     ]
    }
   ],
   "source": [
    "# 4\n",
    "def ukazmito(b, a, Fs):\n",
    "    N = 32; n = [0] * N; imp = [1] + zeros(N-1);\n",
    "    h = filter(b,a,imp); \n",
    "    subplot(222); stem(n,h); grid; xlabel('n'); ylabel('h[n]')\n",
    "    H = freqz(b,a,256); f=(0:255) / 256 * Fs / 2; \n",
    "    subplot(221); plot (f,abs(H)); grid; xlabel('f'); ylabel('|H(f)|')\n",
    "    subplot(223); plot (f,angle(H)); grid; xlabel('f'); ylabel('arg H(f)')\n",
    "    subplot(224); zplane (b,a); \n",
    "    p = roots(a); \n",
    "    if isempty(p) or abs(p) < 1 : \n",
    "        print('stabilni...')\n",
    "    else\n",
    "        print('NESTABILNI !!!')\n",
    "\n",
    "a = [1, 0.2289, 0.4662]\n",
    "b = [0.2324, -0.4112, 0.2324]\n"
   ]
  },
  {
   "cell_type": "code",
   "execution_count": null,
   "metadata": {},
   "outputs": [],
   "source": []
  }
 ],
 "metadata": {
  "kernelspec": {
   "display_name": "Python 3",
   "language": "python",
   "name": "python3"
  },
  "language_info": {
   "codemirror_mode": {
    "name": "ipython",
    "version": 3
   },
   "file_extension": ".py",
   "mimetype": "text/x-python",
   "name": "python",
   "nbconvert_exporter": "python",
   "pygments_lexer": "ipython3",
   "version": "3.5.2"
  }
 },
 "nbformat": 4,
 "nbformat_minor": 2
}
